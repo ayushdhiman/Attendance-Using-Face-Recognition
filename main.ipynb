{
 "cells": [
  {
   "cell_type": "code",
   "execution_count": 1,
   "metadata": {},
   "outputs": [],
   "source": [
    "import os  \n",
    "import check_camera\n",
    "import Capture_Image\n",
    "import Train_Image\n",
    "import Recognize\n"
   ]
  },
  {
   "cell_type": "code",
   "execution_count": 2,
   "metadata": {},
   "outputs": [],
   "source": [
    "def title_bar():\n",
    "    os.system('cls')"
   ]
  },
  {
   "cell_type": "code",
   "execution_count": 3,
   "metadata": {},
   "outputs": [],
   "source": [
    "def mainMenu():\n",
    "    title_bar()\n",
    "    print()\n",
    "    print(10 * \"*\", \"WELCOME MENU\", 10 * \"*\")\n",
    "    print(\"[1] Check Camera\")\n",
    "    print(\"[2] Capture Faces\")\n",
    "    print(\"[3] Train Images\")\n",
    "    print(\"[4] Recognize & Attendance\")\n",
    "    print(\"[5] Quit\")"
   ]
  },
  {
   "cell_type": "code",
   "execution_count": 4,
   "metadata": {},
   "outputs": [],
   "source": [
    "def checkCamera():\n",
    "    check_camera.camer()\n",
    "    key = input(\"Enter any key to return main menu\")\n",
    "    mainMenu()"
   ]
  },
  {
   "cell_type": "code",
   "execution_count": 5,
   "metadata": {},
   "outputs": [],
   "source": [
    "def CaptureFaces():\n",
    "    Capture_Image.takeImages()\n",
    "    key = input(\"Enter any key to return main menu\")\n",
    "    mainMenu()"
   ]
  },
  {
   "cell_type": "code",
   "execution_count": 6,
   "metadata": {},
   "outputs": [],
   "source": [
    "def Trainimages():\n",
    "    Train_Image.TrainImages()\n",
    "    key = input(\"Enter any key to return main menu\")\n",
    "    mainMenu()"
   ]
  },
  {
   "cell_type": "code",
   "execution_count": 7,
   "metadata": {},
   "outputs": [],
   "source": [
    "def RecognizeFaces():\n",
    "    Recognize.recognize_attendence()\n",
    "    key = input(\"Enter any key to return main menu\")\n",
    "    mainMenu()"
   ]
  },
  {
   "cell_type": "code",
   "execution_count": null,
   "metadata": {},
   "outputs": [
    {
     "name": "stdout",
     "output_type": "stream",
     "text": [
      "Enter Choice: 4\n",
      "Attendance Successfull\n"
     ]
    }
   ],
   "source": [
    "   while True:\n",
    "        try:\n",
    "            choice = int(input(\"Enter Choice: \"))\n",
    "\n",
    "            if choice == 1:\n",
    "                checkCamera()\n",
    "                break\n",
    "            elif choice == 2:\n",
    "                CaptureFaces()\n",
    "                break\n",
    "            elif choice == 3:\n",
    "                Trainimages()\n",
    "                break\n",
    "            elif choice == 4:\n",
    "                RecognizeFaces()\n",
    "                break\n",
    "            elif choice == 5:\n",
    "                print(\"Thank You\")\n",
    "                break\n",
    "            else:\n",
    "                print(\"Invalid Choice. Enter 1-5\")\n",
    "                mainMenu()\n",
    "        except ValueError:\n",
    "            print(\"Invalid Choice. Enter 1-5\\n Try Again\")\n"
   ]
  },
  {
   "cell_type": "markdown",
   "metadata": {},
   "source": []
  },
  {
   "cell_type": "code",
   "execution_count": null,
   "metadata": {},
   "outputs": [],
   "source": []
  }
 ],
 "metadata": {
  "kernelspec": {
   "display_name": "Python 3",
   "language": "python",
   "name": "python3"
  },
  "language_info": {
   "codemirror_mode": {
    "name": "ipython",
    "version": 3
   },
   "file_extension": ".py",
   "mimetype": "text/x-python",
   "name": "python",
   "nbconvert_exporter": "python",
   "pygments_lexer": "ipython3",
   "version": "3.7.6"
  }
 },
 "nbformat": 4,
 "nbformat_minor": 4
}
