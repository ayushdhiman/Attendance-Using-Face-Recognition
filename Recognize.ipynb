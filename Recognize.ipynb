{
 "cells": [
  {
   "cell_type": "code",
   "execution_count": 1,
   "metadata": {},
   "outputs": [],
   "source": [
    "import datetime\n",
    "import os\n",
    "import time\n",
    "\n",
    "import cv2\n",
    "import pandas as pd\n"
   ]
  },
  {
   "cell_type": "code",
   "execution_count": 2,
   "metadata": {},
   "outputs": [],
   "source": [
    "#-------------------------\n",
    "def recognize_attendence():\n",
    "    recognizer = cv2.face.LBPHFaceRecognizer_create()  # cv2.createLBPHFaceRecognizer()\n",
    "    recognizer.read(\"TrainingImageLabel\"+os.sep+\"Trainner.yml\")\n",
    "    harcascadePath = \"haarcascade_frontalface_default.xml\"\n",
    "    faceCascade = cv2.CascadeClassifier(harcascadePath)\n",
    "    df = pd.read_csv(\"StudentDetails\"+os.sep+\"StudentDetails.csv\")\n",
    "    cam = cv2.VideoCapture(0)\n",
    "    font = cv2.FONT_HERSHEY_SIMPLEX\n",
    "    col_names = ['Id', 'Name', 'Date', 'Time']\n",
    "    attendance = pd.DataFrame(columns=col_names)\n",
    "\n",
    "    while True:\n",
    "        ret, im = cam.read()\n",
    "        gray = cv2.cvtColor(im, cv2.COLOR_BGR2GRAY)\n",
    "        faces = faceCascade.detectMultiScale(gray, 1.2, 5)\n",
    "        for(x, y, w, h) in faces:\n",
    "            cv2.rectangle(im, (x, y), (x+w, y+h), (225, 0, 0), 2)\n",
    "            Id, conf = recognizer.predict(gray[y:y+h, x:x+w])\n",
    "\n",
    "            if(conf < 50):\n",
    "                ts = time.time()\n",
    "                date = datetime.datetime.fromtimestamp(ts).strftime('%Y-%m-%d')\n",
    "                timeStamp = datetime.datetime.fromtimestamp(\n",
    "                    ts).strftime('%H:%M:%S')\n",
    "                aa = df.loc[df['Id'] == Id]['Name'].values\n",
    "                tt = str(Id)+\"-\"+aa\n",
    "                attendance.loc[len(attendance)] = [Id, aa, date, timeStamp]\n",
    "\n",
    "            else:\n",
    "                Id = 'Unknown'\n",
    "                tt = str(Id)\n",
    "            if(conf > 75):\n",
    "                noOfFile = len(os.listdir(\"ImagesUnknown\"))+1\n",
    "                cv2.imwrite(\"ImagesUnknown\"+os.sep+\"Image\"+str(noOfFile) +\n",
    "                            \".jpg\", im[y:y+h, x:x+w])\n",
    "            cv2.putText(im, str(tt), (x, y+h), font, 1, (255, 255, 255), 2)\n",
    "        attendance = attendance.drop_duplicates(subset=['Id'], keep='first')\n",
    "        cv2.imshow('im', im)\n",
    "        if (cv2.waitKey(1) == ord('q')):\n",
    "            break\n",
    "    ts = time.time()\n",
    "    date = datetime.datetime.fromtimestamp(ts).strftime('%Y-%m-%d')\n",
    "    timeStamp = datetime.datetime.fromtimestamp(ts).strftime('%H:%M:%S')\n",
    "    Hour, Minute, Second = timeStamp.split(\":\")\n",
    "    fileName = \"Attendance\"+os.sep+\"Attendance_\"+date+\"_\"+Hour+\"-\"+Minute+\"-\"+Second+\".csv\"\n",
    "    attendance.to_csv(fileName, index=False)\n",
    "    cam.release()\n",
    "    cv2.destroyAllWindows()\n",
    "\n",
    "    print(\"Attendance Successfull\")\n"
   ]
  },
  {
   "cell_type": "code",
   "execution_count": null,
   "metadata": {},
   "outputs": [],
   "source": []
  }
 ],
 "metadata": {
  "kernelspec": {
   "display_name": "Python 3",
   "language": "python",
   "name": "python3"
  },
  "language_info": {
   "codemirror_mode": {
    "name": "ipython",
    "version": 3
   },
   "file_extension": ".py",
   "mimetype": "text/x-python",
   "name": "python",
   "nbconvert_exporter": "python",
   "pygments_lexer": "ipython3",
   "version": "3.7.6"
  }
 },
 "nbformat": 4,
 "nbformat_minor": 4
}
