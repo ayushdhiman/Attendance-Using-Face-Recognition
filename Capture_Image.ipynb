{
 "cells": [
  {
   "cell_type": "code",
   "execution_count": 1,
   "metadata": {},
   "outputs": [],
   "source": [
    "import csv\n",
    "\n",
    "import cv2\n",
    "import os"
   ]
  },
  {
   "cell_type": "code",
   "execution_count": 2,
   "metadata": {},
   "outputs": [],
   "source": [
    "# counting the numbers\n",
    "\n",
    "\n",
    "def is_number(s):\n",
    "    try:\n",
    "        float(s)\n",
    "        return True\n",
    "    except ValueError:\n",
    "        pass\n",
    "\n",
    "    try:\n",
    "        import unicodedata\n",
    "        unicodedata.numeric(s)\n",
    "        return True\n",
    "    except (TypeError, ValueError):\n",
    "        pass\n",
    "\n",
    "    return False"
   ]
  },
  {
   "cell_type": "code",
   "execution_count": 3,
   "metadata": {},
   "outputs": [],
   "source": [
    "# Take image function\n",
    "\n",
    "def takeImages():\n",
    "    \n",
    "\n",
    "    Id = input(\"Enter Your Id: \")\n",
    "    name = input(\"Enter Your Name: \")\n",
    "\n",
    "    if(is_number(Id) and name.isalpha()):\n",
    "        cam = cv2.VideoCapture(0)\n",
    "        harcascadePath = \"haarcascade_frontalface_default.xml\"\n",
    "        detector = cv2.CascadeClassifier(harcascadePath)\n",
    "        sampleNum = 0\n",
    "\n",
    "        while(True):\n",
    "            ret, img = cam.read()\n",
    "            gray = cv2.cvtColor(img, cv2.COLOR_BGR2GRAY)\n",
    "            faces = detector.detectMultiScale(gray, 1.3, 5)\n",
    "            for(x,y,w,h) in faces:\n",
    "                cv2.rectangle(img, (x, y), (x+w, y+h), (255, 0, 0), 2)\n",
    "                #incrementing sample number\n",
    "                sampleNum = sampleNum+1\n",
    "                #saving the captured face in the dataset folder TrainingImage\n",
    "                cv2.imwrite(\"TrainingImage\" + os.sep +name + \".\"+Id + '.' +\n",
    "                            str(sampleNum) + \".jpg\", gray[y:y+h, x:x+w])\n",
    "                #display the frame\n",
    "                cv2.imshow('frame', img)\n",
    "            #wait for 100 miliseconds\n",
    "            if cv2.waitKey(100) & 0xFF == ord('q'):\n",
    "                break\n",
    "            # break if the sample number is morethan 100\n",
    "            elif sampleNum > 60:\n",
    "                break\n",
    "        cam.release()\n",
    "        cv2.destroyAllWindows()\n",
    "        res = \"Images Saved for ID : \" + Id + \" Name : \" + name\n",
    "        row = [Id, name]\n",
    "        with open(\"StudentDetails\"+os.sep+\"StudentDetails.csv\", 'a+') as csvFile:\n",
    "            writer = csv.writer(csvFile)\n",
    "            writer.writerow(row)\n",
    "        csvFile.close()\n",
    "    else:\n",
    "        if(is_number(Id)):\n",
    "            print(\"Enter Alphabetical Name\")\n",
    "        if(name.isalpha()):\n",
    "            print(\"Enter Numeric ID\")\n"
   ]
  },
  {
   "cell_type": "code",
   "execution_count": null,
   "metadata": {},
   "outputs": [],
   "source": []
  }
 ],
 "metadata": {
  "kernelspec": {
   "display_name": "Python 3",
   "language": "python",
   "name": "python3"
  },
  "language_info": {
   "codemirror_mode": {
    "name": "ipython",
    "version": 3
   },
   "file_extension": ".py",
   "mimetype": "text/x-python",
   "name": "python",
   "nbconvert_exporter": "python",
   "pygments_lexer": "ipython3",
   "version": "3.7.6"
  }
 },
 "nbformat": 4,
 "nbformat_minor": 4
}
